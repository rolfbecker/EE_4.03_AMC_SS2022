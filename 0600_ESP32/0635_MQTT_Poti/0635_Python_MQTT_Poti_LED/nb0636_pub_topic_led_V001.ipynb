{
 "cells": [
  {
   "cell_type": "markdown",
   "metadata": {},
   "source": [
    "# MQTT Publisher\n",
    "\n",
    "* Simulate sensor measurement data and publish it to an MQTT broker.\n",
    "\n",
    "## MQTT broker\n",
    "\n",
    "1. Use our dedicated MQTT broker: hsrw.space:1883\n",
    "1. Use eclipse publically accessible broker: mqttc.connect(\"m2m.eclipse.org\", 1883, 60)\n",
    "1. Install mosquitto MQTT broker locally, i.e. on your computer\n"
   ]
  },
  {
   "cell_type": "code",
   "execution_count": 2,
   "metadata": {},
   "outputs": [],
   "source": [
    "import paho.mqtt.client as mqtt"
   ]
  },
  {
   "cell_type": "markdown",
   "metadata": {},
   "source": [
    "## MQTT Broker Connection Parameters"
   ]
  },
  {
   "cell_type": "code",
   "execution_count": 26,
   "metadata": {},
   "outputs": [
    {
     "name": "stdout",
     "output_type": "stream",
     "text": [
      "Topic:  /amc2020/batman/led\n"
     ]
    }
   ],
   "source": [
    "broker = \"hsrw.space\"\n",
    "port=1883\n",
    "\n",
    "username = \"user\"\n",
    "password = \"mqtt\"\n",
    "\n",
    "myname = \"batman\"\n",
    "\n",
    "topic = \"/amc2020/\"+myname+\"/led\"\n",
    "\n",
    "print(\"Topic: \", topic)"
   ]
  },
  {
   "cell_type": "markdown",
   "metadata": {},
   "source": [
    "##  Connect MQTT Publisher Client"
   ]
  },
  {
   "cell_type": "code",
   "execution_count": 42,
   "metadata": {},
   "outputs": [
    {
     "data": {
      "text/plain": [
       "0"
      ]
     },
     "execution_count": 42,
     "metadata": {},
     "output_type": "execute_result"
    }
   ],
   "source": [
    "def on_publish(client,userdata,result):             #create function for callback\n",
    "    print(\"Data published. Result:\", result)\n",
    "    pass\n",
    "\n",
    "#client1= mqtt.Client(client_id = \"Prof. B.'s Publisher\")           #create client object\n",
    "client1= mqtt.Client()           #create client object\n",
    "client1.on_publish = on_publish                          #assign function to callback\n",
    "\n",
    "client1.username_pw_set(username = username, password = password)\n",
    "client1.connect(broker,port) #establish connection\n",
    "\n",
    "#msg = \"on\"\n",
    "\n",
    "#ret = client1.publish(topic,msg) \n",
    "#print(\"ret: \", ret)\n",
    "\n",
    "#ret = client1.disconnect()\n",
    "#print(\"ret: \", ret)"
   ]
  },
  {
   "cell_type": "markdown",
   "metadata": {},
   "source": [
    "## Toggle LED 5 times in 10 Secs"
   ]
  },
  {
   "cell_type": "code",
   "execution_count": 47,
   "metadata": {},
   "outputs": [
    {
     "name": "stdout",
     "output_type": "stream",
     "text": [
      "LED on\n",
      "Data published. Result: 41\n",
      "LED off\n",
      "Data published. Result: 42\n",
      "LED on\n",
      "Data published. Result: 43\n",
      "LED off\n",
      "Data published. Result: 44\n",
      "LED on\n",
      "Data published. Result: 45\n",
      "LED off\n",
      "Data published. Result: 46\n",
      "LED on\n",
      "Data published. Result: 47\n",
      "LED off\n",
      "Data published. Result: 48\n",
      "LED on\n",
      "Data published. Result: 49\n",
      "LED off\n",
      "Data published. Result: 50\n"
     ]
    }
   ],
   "source": [
    "from time import sleep\n",
    "for i in range(10):\n",
    "    if i%2 == 0: \n",
    "        msg = \"on\"\n",
    "    else: \n",
    "        msg = \"off\"\n",
    "    print(\"LED %s\" % (msg))\n",
    "    \n",
    "    ret = client1.publish(topic,msg) \n",
    "    sleep(1)"
   ]
  },
  {
   "cell_type": "markdown",
   "metadata": {},
   "source": [
    "## Disconnect MQTT Publisher Client"
   ]
  },
  {
   "cell_type": "code",
   "execution_count": 48,
   "metadata": {},
   "outputs": [
    {
     "name": "stdout",
     "output_type": "stream",
     "text": [
      "ret:  0\n"
     ]
    }
   ],
   "source": [
    "ret = client1.disconnect()\n",
    "print(\"ret: \", ret)"
   ]
  },
  {
   "cell_type": "code",
   "execution_count": null,
   "metadata": {},
   "outputs": [],
   "source": []
  }
 ],
 "metadata": {
  "kernelspec": {
   "display_name": "Python 3",
   "language": "python",
   "name": "python3"
  },
  "language_info": {
   "codemirror_mode": {
    "name": "ipython",
    "version": 3
   },
   "file_extension": ".py",
   "mimetype": "text/x-python",
   "name": "python",
   "nbconvert_exporter": "python",
   "pygments_lexer": "ipython3",
   "version": "3.6.7"
  }
 },
 "nbformat": 4,
 "nbformat_minor": 2
}
